{
 "cells": [
  {
   "cell_type": "markdown",
   "metadata": {},
   "source": [
    "1.What is dictionary in Python? Explain with an example "
   ]
  },
  {
   "cell_type": "raw",
   "metadata": {},
   "source": [
    "A dictionary is used to map or associate things you want to store the keys you need to get them. \n",
    "A dictionary in Python is just like a dictionary in the real world. Python Dictionary are defined \n",
    "into two elements Keys and Values\n",
    "\n",
    "* Keys will be a single element\n",
    "* Values can be a list or list within a list, numbers, etc.\n",
    "\n",
    "eg: d={'ice cream':10, 'choclate':20,}\n",
    "      where, in the above example * d= dictionary name\n",
    "        * keys and elements are enclosed in curly braces\n",
    "        * keys are separated by colon\n",
    "        * elements are separated by comma\n",
    "                                "
   ]
  },
  {
   "cell_type": "markdown",
   "metadata": {},
   "source": [
    "2.Write a Python program to sum all the items in a list. "
   ]
  },
  {
   "cell_type": "code",
   "execution_count": 1,
   "metadata": {},
   "outputs": [
    {
     "name": "stdout",
     "output_type": "stream",
     "text": [
      "15\n"
     ]
    }
   ],
   "source": [
    "list=[1,2,3,4,5]\n",
    "print(sum(list))"
   ]
  },
  {
   "cell_type": "markdown",
   "metadata": {},
   "source": [
    "3. Write a Python program to create a list of empty dictionaries. "
   ]
  },
  {
   "cell_type": "code",
   "execution_count": 9,
   "metadata": {},
   "outputs": [
    {
     "name": "stdout",
     "output_type": "stream",
     "text": [
      "[{}, {}, {}, {}, {}, {}, {}, {}, {}, {}]\n"
     ]
    }
   ],
   "source": [
    "n=10\n",
    "i=[{} for _ in range(n) ]\n",
    "print(i)"
   ]
  },
  {
   "cell_type": "markdown",
   "metadata": {},
   "source": [
    "4.Write a Python program to access dictionary keys element by index. "
   ]
  },
  {
   "cell_type": "code",
   "execution_count": 17,
   "metadata": {},
   "outputs": [
    {
     "ename": "KeyError",
     "evalue": "1",
     "output_type": "error",
     "traceback": [
      "\u001b[1;31m---------------------------------------------------------------------------\u001b[0m",
      "\u001b[1;31mKeyError\u001b[0m                                  Traceback (most recent call last)",
      "\u001b[1;32m<ipython-input-17-9ed61b6ff92a>\u001b[0m in \u001b[0;36m<module>\u001b[1;34m\u001b[0m\n\u001b[0;32m      1\u001b[0m \u001b[0md\u001b[0m\u001b[1;33m=\u001b[0m\u001b[1;33m{\u001b[0m\u001b[1;34m'ice cream'\u001b[0m\u001b[1;33m:\u001b[0m\u001b[1;36m10\u001b[0m\u001b[1;33m,\u001b[0m\u001b[1;34m'candy'\u001b[0m\u001b[1;33m:\u001b[0m\u001b[1;36m20\u001b[0m\u001b[1;33m}\u001b[0m\u001b[1;33m\u001b[0m\u001b[1;33m\u001b[0m\u001b[0m\n\u001b[1;32m----> 2\u001b[1;33m \u001b[0mprint\u001b[0m\u001b[1;33m(\u001b[0m\u001b[1;33m(\u001b[0m\u001b[0md\u001b[0m\u001b[1;33m)\u001b[0m\u001b[1;33m[\u001b[0m\u001b[1;36m1\u001b[0m\u001b[1;33m]\u001b[0m\u001b[1;33m)\u001b[0m\u001b[1;33m\u001b[0m\u001b[1;33m\u001b[0m\u001b[0m\n\u001b[0m",
      "\u001b[1;31mKeyError\u001b[0m: 1"
     ]
    }
   ],
   "source": [
    "d={'ice cream':10,'candy':20}\n",
    "print((d)[1])"
   ]
  },
  {
   "cell_type": "markdown",
   "metadata": {},
   "source": [
    "5.Write a Python program to iterate over dictionaries using for loops "
   ]
  },
  {
   "cell_type": "code",
   "execution_count": 18,
   "metadata": {},
   "outputs": [
    {
     "name": "stdout",
     "output_type": "stream",
     "text": [
      "ice cream corresponds to 10\n",
      "choclate corresponds to 20\n",
      "candy corresponds to 30\n"
     ]
    }
   ],
   "source": [
    "d={'ice cream':10, 'choclate':20, 'candy':30}\n",
    "for treat, i in d.items():\n",
    "    print(treat, 'corresponds to', d[treat])\n"
   ]
  },
  {
   "cell_type": "markdown",
   "metadata": {},
   "source": [
    "6.Write a Python program to sum all the items in a dictionary. "
   ]
  },
  {
   "cell_type": "code",
   "execution_count": 25,
   "metadata": {},
   "outputs": [],
   "source": [
    "def dict_sum(mydict):\n",
    " sum=0\n",
    " for i in mydict:\n",
    "  sum=sum + mydict[i]\n",
    " return sum\n",
    " dict={'a':10, 'b': 20, 'c': 30}\n",
    " print(\"sum:\" , dict_sum(dict))"
   ]
  },
  {
   "cell_type": "markdown",
   "metadata": {},
   "source": [
    "7.Write a Python script to concatenate following dictionaries to create a new one. Sample Dictionary : \n",
    "a. dic1={1:10, 2:20} \n",
    "b. dic2={3:30, 4:40} \n",
    "c. dic3={5:50,6:60} \n"
   ]
  },
  {
   "cell_type": "code",
   "execution_count": 5,
   "metadata": {},
   "outputs": [
    {
     "name": "stdout",
     "output_type": "stream",
     "text": [
      "{1: 10, 2: 20, 3: 30, 4: 40, 5: 50, 6: 60}\n"
     ]
    }
   ],
   "source": [
    "d1={1:10, 2:20,}\n",
    "d2={3:30, 4:40}\n",
    "d3={5:50, 6:60}\n",
    "d4={}\n",
    "for d in (d1,d2,d3): d4.update(d)\n",
    "print(d4)"
   ]
  },
  {
   "cell_type": "code",
   "execution_count": null,
   "metadata": {},
   "outputs": [],
   "source": []
  }
 ],
 "metadata": {
  "kernelspec": {
   "display_name": "Python 3",
   "language": "python",
   "name": "python3"
  },
  "language_info": {
   "codemirror_mode": {
    "name": "ipython",
    "version": 3
   },
   "file_extension": ".py",
   "mimetype": "text/x-python",
   "name": "python",
   "nbconvert_exporter": "python",
   "pygments_lexer": "ipython3",
   "version": "3.7.6"
  }
 },
 "nbformat": 4,
 "nbformat_minor": 4
}
